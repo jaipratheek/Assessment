{
 "cells": [
  {
   "cell_type": "code",
   "execution_count": 1,
   "id": "fe76a980",
   "metadata": {},
   "outputs": [],
   "source": [
    "import json\n",
    "import pandas as pd\n",
    "from sklearn.preprocessing import StandardScaler\n",
    "from sklearn.impute import SimpleImputer\n",
    "from sklearn.decomposition import PCA\n",
    "from sklearn.feature_selection import SelectKBest, f_regression\n",
    "from sklearn.ensemble import RandomForestRegressor\n",
    "from sklearn.linear_model import LinearRegression, Ridge, Lasso\n",
    "from sklearn.svm import SVR\n",
    "from sklearn.model_selection import GridSearchCV"
   ]
  },
  {
   "cell_type": "code",
   "execution_count": 2,
   "id": "ab26fe61",
   "metadata": {},
   "outputs": [],
   "source": [
    "# Open the JSON file\n",
    "with open('algoparams_from_ui.json') as f:\n",
    "    # Load the JSON data from the file\n",
    "    data = json.load(f)\n"
   ]
  },
  {
   "cell_type": "code",
   "execution_count": 3,
   "id": "f96c70fb",
   "metadata": {},
   "outputs": [],
   "source": [
    "iris = pd.read_csv('iris.csv')"
   ]
  },
  {
   "cell_type": "code",
   "execution_count": 30,
   "id": "57287414",
   "metadata": {},
   "outputs": [
    {
     "data": {
      "text/plain": [
       "{'prediction_type': 'Regression',\n",
       " 'target': 'petal_width',\n",
       " 'type': 'regression',\n",
       " 'partitioning': True}"
      ]
     },
     "execution_count": 30,
     "metadata": {},
     "output_type": "execute_result"
    }
   ],
   "source": [
    "data['design_state_data']['target']"
   ]
  },
  {
   "cell_type": "code",
   "execution_count": 31,
   "id": "31c64727",
   "metadata": {},
   "outputs": [],
   "source": [
    "features = data['design_state_data']['feature_handling']\n",
    "prediction_type = data['design_state_data']['target']['prediction_type']"
   ]
  },
  {
   "cell_type": "code",
   "execution_count": 32,
   "id": "fed98841",
   "metadata": {},
   "outputs": [],
   "source": [
    "#target = data['design_state_data']['target']['target']\n",
    "df = pd.read_csv(r'C:\\Me\\GIM\\clubs stuff\\placecom\\SIP\\dendrite.ai\\Screening Test - DS\\iris.csv')"
   ]
  },
  {
   "cell_type": "code",
   "execution_count": 33,
   "id": "38924a3d",
   "metadata": {},
   "outputs": [
    {
     "data": {
      "text/html": [
       "<div>\n",
       "<style scoped>\n",
       "    .dataframe tbody tr th:only-of-type {\n",
       "        vertical-align: middle;\n",
       "    }\n",
       "\n",
       "    .dataframe tbody tr th {\n",
       "        vertical-align: top;\n",
       "    }\n",
       "\n",
       "    .dataframe thead th {\n",
       "        text-align: right;\n",
       "    }\n",
       "</style>\n",
       "<table border=\"1\" class=\"dataframe\">\n",
       "  <thead>\n",
       "    <tr style=\"text-align: right;\">\n",
       "      <th></th>\n",
       "      <th>sepal_length</th>\n",
       "      <th>sepal_width</th>\n",
       "      <th>petal_length</th>\n",
       "      <th>petal_width</th>\n",
       "      <th>species</th>\n",
       "    </tr>\n",
       "  </thead>\n",
       "  <tbody>\n",
       "    <tr>\n",
       "      <th>0</th>\n",
       "      <td>5.1</td>\n",
       "      <td>3.5</td>\n",
       "      <td>1.4</td>\n",
       "      <td>0.2</td>\n",
       "      <td>Iris-setosa</td>\n",
       "    </tr>\n",
       "    <tr>\n",
       "      <th>1</th>\n",
       "      <td>4.9</td>\n",
       "      <td>3.0</td>\n",
       "      <td>1.4</td>\n",
       "      <td>0.2</td>\n",
       "      <td>Iris-setosa</td>\n",
       "    </tr>\n",
       "    <tr>\n",
       "      <th>2</th>\n",
       "      <td>4.7</td>\n",
       "      <td>3.2</td>\n",
       "      <td>1.3</td>\n",
       "      <td>0.2</td>\n",
       "      <td>Iris-setosa</td>\n",
       "    </tr>\n",
       "    <tr>\n",
       "      <th>3</th>\n",
       "      <td>4.6</td>\n",
       "      <td>3.1</td>\n",
       "      <td>1.5</td>\n",
       "      <td>0.2</td>\n",
       "      <td>Iris-setosa</td>\n",
       "    </tr>\n",
       "    <tr>\n",
       "      <th>4</th>\n",
       "      <td>5.0</td>\n",
       "      <td>3.6</td>\n",
       "      <td>1.4</td>\n",
       "      <td>0.2</td>\n",
       "      <td>Iris-setosa</td>\n",
       "    </tr>\n",
       "  </tbody>\n",
       "</table>\n",
       "</div>"
      ],
      "text/plain": [
       "   sepal_length  sepal_width  petal_length  petal_width      species\n",
       "0           5.1          3.5           1.4          0.2  Iris-setosa\n",
       "1           4.9          3.0           1.4          0.2  Iris-setosa\n",
       "2           4.7          3.2           1.3          0.2  Iris-setosa\n",
       "3           4.6          3.1           1.5          0.2  Iris-setosa\n",
       "4           5.0          3.6           1.4          0.2  Iris-setosa"
      ]
     },
     "execution_count": 33,
     "metadata": {},
     "output_type": "execute_result"
    }
   ],
   "source": [
    "df.head()"
   ]
  },
  {
   "cell_type": "code",
   "execution_count": 34,
   "id": "71c0e211",
   "metadata": {},
   "outputs": [],
   "source": [
    "# Apply missing value imputation to the dataframe\n",
    "missing_imputation = data['design_state_data']['feature_handling']\n",
    "if missing_imputation == 'mean':\n",
    "    imputer = SimpleImputer(strategy='mean')\n",
    "elif missing_imputation == 'median':\n",
    "    imputer = SimpleImputer(strategy='median')\n",
    "elif missing_imputation == 'most_frequent':\n",
    "    imputer = SimpleImputer(strategy='most_frequent')\n",
    "else:\n",
    "    imputer = None\n",
    "if imputer is not None:\n",
    "    df[features] = imputer.fit_transform(df)"
   ]
  },
  {
   "cell_type": "code",
   "execution_count": 35,
   "id": "9d64c866",
   "metadata": {},
   "outputs": [],
   "source": [
    "feature_reduction = data['design_state_data']['feature_reduction']\n",
    "if feature_reduction == 'corr':\n",
    "    corr = df.corr()\n",
    "    corr_target = corr[target].sort_values(ascending=False)\n",
    "    selected_features = corr_target[corr_target.abs() > 0.5].index.tolist()\n",
    "elif feature_reduction == 'tree':\n",
    "    model = RandomForestRegressor()\n",
    "    model.fit(df, df[target])\n",
    "    importances = model.feature_importances_\n",
    "    selected_features = df.columns[importances > 0.01].tolist()\n",
    "elif feature_reduction == 'pca':\n",
    "    pca = PCA(n_components=3)\n",
    "    df_pca = pca.fit_transform(df)\n",
    "    selected_features = ['PCA'+str(i) for i in range(pca.n_components_)]\n",
    "else:\n",
    "    selected_features = features\n"
   ]
  },
  {
   "cell_type": "code",
   "execution_count": 38,
   "id": "496b691d",
   "metadata": {},
   "outputs": [],
   "source": [
    "# Create the model objects based on the prediction type specified\n",
    "prediction_type = data['design_state_data']['target']['prediction_type']\n",
    "if prediction_type == 'linear':\n",
    "    models = [LinearRegression()]\n",
    "elif prediction_type == 'ridge':\n",
    "    models = [Ridge()]\n",
    "elif prediction_type == 'lasso':\n",
    "    models = [Lasso()]\n",
    "elif prediction_type == 'svm':\n",
    "    models = [SVR()]\n",
    "elif prediction_type == 'ensemble':\n",
    "    models = [RandomForestRegressor()]\n",
    "else:\n",
    "    models = []"
   ]
  },
  {
   "cell_type": "code",
   "execution_count": 39,
   "id": "8dbca7f0",
   "metadata": {},
   "outputs": [],
   "source": [
    "# Run fit and predict on each model with hyper parameter tuning using GridSearchCV\n",
    "for model in models:\n",
    "    param_grid = data['design_state_data']['hyperparameters']\n",
    "    grid_search = GridSearchCV(model, param_grid, cv=5)\n",
    "    X = iris[selected_features]\n",
    "    y = iris[target]\n",
    "    scaler = StandardScaler()\n",
    "    X = scaler.fit_transform(X)\n",
    "    grid_search.fit(X, y)\n",
    "    print(grid_search.best_estimator_.predict(X))"
   ]
  },
  {
   "cell_type": "code",
   "execution_count": null,
   "id": "bc7b7053",
   "metadata": {},
   "outputs": [],
   "source": []
  },
  {
   "cell_type": "code",
   "execution_count": null,
   "id": "1a162f58",
   "metadata": {},
   "outputs": [],
   "source": []
  }
 ],
 "metadata": {
  "kernelspec": {
   "display_name": "Python 3 (ipykernel)",
   "language": "python",
   "name": "python3"
  },
  "language_info": {
   "codemirror_mode": {
    "name": "ipython",
    "version": 3
   },
   "file_extension": ".py",
   "mimetype": "text/x-python",
   "name": "python",
   "nbconvert_exporter": "python",
   "pygments_lexer": "ipython3",
   "version": "3.9.12"
  }
 },
 "nbformat": 4,
 "nbformat_minor": 5
}
